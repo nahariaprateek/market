{
 "cells": [
  {
   "cell_type": "markdown",
   "id": "9e1f425b",
   "metadata": {},
   "source": [
    "## Predicting the Market\n",
    "We would like to build a model to predict the next trade price for 500 illiquid assets. For the purpose of this exercise, we have created a synthetic dataset which mimics the behavior of the Corporate (Syndicated) Loan market. \n",
    "The dataset includes a metadata file for assets (./assets.csv) and a dataset for historical trades (./trades.csv). \n"
   ]
  },
  {
   "cell_type": "markdown",
   "id": "8289c52d",
   "metadata": {},
   "source": [
    "### Target:\n",
    "The target would be to predict the next trade price for 500 illiquid* assets at time T. In practice, you would be able to predict the price of an asset in the morning before any trades happen.\n",
    "\n",
    "### Inputs:\n",
    "* Static:\n",
    "    * 'Assets' meta data, which includes assets' static attributes (500x7 matrix).\n",
    "* Dynamic:\n",
    "    * On any given day in history, there's a handful of trades done for a portion of the universe: \n",
    "        * On any given day, there might either be no trades, one trade, or multiple trades done for any asset.\n",
    "        * For each trade, we have the following trade attributes: Date, Asset, Price, Notional, Type.\n",
    "    * Everyday that the market is open, there is a vector defining the market condition. Feel free to use publicly available data sources to extract any market indicative data that you think could be important in predicting the trade prices. Keep in mind we are focusing on the fixed income (credit) market**. \n",
    "\n",
    "\n",
    "*Illiquid: does not trade frequently, so there is no live price available like in the stock market. The last trade on an asset may have happened a few days ago.\n",
    "\n",
    "**Hint: Is there any ETF that carries information about the Syndicated Loan market?\n"
   ]
  },
  {
   "cell_type": "markdown",
   "id": "cd2a3038",
   "metadata": {},
   "source": [
    "### What you need to do:\n",
    "\n",
    "Create a model to predict the prices for the assets provided in the 'assets' meta data file. Provide performance analyses for your model. Keep in mind that you are buiding a financial model, so explainability is key. Pick one random prediction. How can you explain your model's results on why it has predicted a certain price for a given asset? What are the main causes for the different predictions either in different days or for different assets?"
   ]
  },
  {
   "cell_type": "code",
   "execution_count": 5,
   "id": "0e42d2c1",
   "metadata": {},
   "outputs": [],
   "source": [
    "import pandas as pd\n",
    "\n",
    "assets_df = pd.read_csv(\"./assets.csv\")\n",
    "trades_df = pd.read_csv(\"./trades.csv\")"
   ]
  },
  {
   "cell_type": "code",
   "execution_count": 6,
   "id": "f430b696",
   "metadata": {},
   "outputs": [
    {
     "data": {
      "text/html": [
       "<div>\n",
       "<style scoped>\n",
       "    .dataframe tbody tr th:only-of-type {\n",
       "        vertical-align: middle;\n",
       "    }\n",
       "\n",
       "    .dataframe tbody tr th {\n",
       "        vertical-align: top;\n",
       "    }\n",
       "\n",
       "    .dataframe thead th {\n",
       "        text-align: right;\n",
       "    }\n",
       "</style>\n",
       "<table border=\"1\" class=\"dataframe\">\n",
       "  <thead>\n",
       "    <tr style=\"text-align: right;\">\n",
       "      <th></th>\n",
       "      <th>name</th>\n",
       "      <th>rating</th>\n",
       "      <th>seniority</th>\n",
       "      <th>coupon_spread</th>\n",
       "      <th>coupontype</th>\n",
       "      <th>currency</th>\n",
       "      <th>industry</th>\n",
       "    </tr>\n",
       "  </thead>\n",
       "  <tbody>\n",
       "    <tr>\n",
       "      <th>0</th>\n",
       "      <td>Asset0</td>\n",
       "      <td>B2</td>\n",
       "      <td>1st lien</td>\n",
       "      <td>391.0</td>\n",
       "      <td>NaN</td>\n",
       "      <td>USD</td>\n",
       "      <td>NaN</td>\n",
       "    </tr>\n",
       "    <tr>\n",
       "      <th>1</th>\n",
       "      <td>Asset1</td>\n",
       "      <td>Ba2</td>\n",
       "      <td>1st lien</td>\n",
       "      <td>425.0</td>\n",
       "      <td>fixed</td>\n",
       "      <td>USD</td>\n",
       "      <td>sector17</td>\n",
       "    </tr>\n",
       "    <tr>\n",
       "      <th>2</th>\n",
       "      <td>Asset2</td>\n",
       "      <td>B2</td>\n",
       "      <td>1st lien</td>\n",
       "      <td>555.0</td>\n",
       "      <td>floating</td>\n",
       "      <td>USD</td>\n",
       "      <td>sector20</td>\n",
       "    </tr>\n",
       "    <tr>\n",
       "      <th>3</th>\n",
       "      <td>Asset3</td>\n",
       "      <td>B2</td>\n",
       "      <td>1st lien</td>\n",
       "      <td>342.0</td>\n",
       "      <td>floating</td>\n",
       "      <td>NaN</td>\n",
       "      <td>sector18</td>\n",
       "    </tr>\n",
       "    <tr>\n",
       "      <th>4</th>\n",
       "      <td>Asset4</td>\n",
       "      <td>Ba1</td>\n",
       "      <td>1st lien</td>\n",
       "      <td>340.0</td>\n",
       "      <td>floating</td>\n",
       "      <td>NaN</td>\n",
       "      <td>sector13</td>\n",
       "    </tr>\n",
       "  </tbody>\n",
       "</table>\n",
       "</div>"
      ],
      "text/plain": [
       "     name rating seniority  coupon_spread coupontype currency  industry\n",
       "0  Asset0     B2  1st lien          391.0        NaN      USD       NaN\n",
       "1  Asset1    Ba2  1st lien          425.0      fixed      USD  sector17\n",
       "2  Asset2     B2  1st lien          555.0   floating      USD  sector20\n",
       "3  Asset3     B2  1st lien          342.0   floating      NaN  sector18\n",
       "4  Asset4    Ba1  1st lien          340.0   floating      NaN  sector13"
      ]
     },
     "execution_count": 6,
     "metadata": {},
     "output_type": "execute_result"
    }
   ],
   "source": [
    "assets_df.head()"
   ]
  },
  {
   "cell_type": "code",
   "execution_count": 7,
   "id": "f3430411",
   "metadata": {},
   "outputs": [
    {
     "data": {
      "text/html": [
       "<div>\n",
       "<style scoped>\n",
       "    .dataframe tbody tr th:only-of-type {\n",
       "        vertical-align: middle;\n",
       "    }\n",
       "\n",
       "    .dataframe tbody tr th {\n",
       "        vertical-align: top;\n",
       "    }\n",
       "\n",
       "    .dataframe thead th {\n",
       "        text-align: right;\n",
       "    }\n",
       "</style>\n",
       "<table border=\"1\" class=\"dataframe\">\n",
       "  <thead>\n",
       "    <tr style=\"text-align: right;\">\n",
       "      <th></th>\n",
       "      <th>transaction_date</th>\n",
       "      <th>name</th>\n",
       "      <th>type</th>\n",
       "      <th>notional</th>\n",
       "      <th>trade_price</th>\n",
       "    </tr>\n",
       "  </thead>\n",
       "  <tbody>\n",
       "    <tr>\n",
       "      <th>0</th>\n",
       "      <td>2021-08-02</td>\n",
       "      <td>Asset453</td>\n",
       "      <td>BUY</td>\n",
       "      <td>1500000.0</td>\n",
       "      <td>98.02</td>\n",
       "    </tr>\n",
       "    <tr>\n",
       "      <th>1</th>\n",
       "      <td>2021-08-02</td>\n",
       "      <td>Asset376</td>\n",
       "      <td>SELL</td>\n",
       "      <td>2000000.0</td>\n",
       "      <td>98.01</td>\n",
       "    </tr>\n",
       "    <tr>\n",
       "      <th>2</th>\n",
       "      <td>2021-08-02</td>\n",
       "      <td>Asset297</td>\n",
       "      <td>BUY</td>\n",
       "      <td>1000000.0</td>\n",
       "      <td>98.04</td>\n",
       "    </tr>\n",
       "    <tr>\n",
       "      <th>3</th>\n",
       "      <td>2021-08-02</td>\n",
       "      <td>Asset388</td>\n",
       "      <td>BUY</td>\n",
       "      <td>1500000.0</td>\n",
       "      <td>97.97</td>\n",
       "    </tr>\n",
       "    <tr>\n",
       "      <th>4</th>\n",
       "      <td>2021-08-02</td>\n",
       "      <td>Asset101</td>\n",
       "      <td>BUY</td>\n",
       "      <td>1500000.0</td>\n",
       "      <td>98.05</td>\n",
       "    </tr>\n",
       "  </tbody>\n",
       "</table>\n",
       "</div>"
      ],
      "text/plain": [
       "  transaction_date      name  type   notional  trade_price\n",
       "0       2021-08-02  Asset453   BUY  1500000.0        98.02\n",
       "1       2021-08-02  Asset376  SELL  2000000.0        98.01\n",
       "2       2021-08-02  Asset297   BUY  1000000.0        98.04\n",
       "3       2021-08-02  Asset388   BUY  1500000.0        97.97\n",
       "4       2021-08-02  Asset101   BUY  1500000.0        98.05"
      ]
     },
     "execution_count": 7,
     "metadata": {},
     "output_type": "execute_result"
    }
   ],
   "source": [
    "trades_df.head()"
   ]
  },
  {
   "cell_type": "code",
   "execution_count": null,
   "id": "9934c3c6",
   "metadata": {},
   "outputs": [],
   "source": []
  }
 ],
 "metadata": {
  "kernelspec": {
   "display_name": "conda_python3",
   "language": "python",
   "name": "conda_python3"
  },
  "language_info": {
   "codemirror_mode": {
    "name": "ipython",
    "version": 3
   },
   "file_extension": ".py",
   "mimetype": "text/x-python",
   "name": "python",
   "nbconvert_exporter": "python",
   "pygments_lexer": "ipython3",
   "version": "3.10.6"
  }
 },
 "nbformat": 4,
 "nbformat_minor": 5
}
